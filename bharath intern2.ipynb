{
 "cells": [
  {
   "cell_type": "code",
   "execution_count": null,
   "id": "405a8bb2",
   "metadata": {},
   "outputs": [],
   "source": [
    "pip install pattern\n",
    "pip install pyspellchecker\n",
    "pip install autocorrect\n",
    "pip install textblob\n",
    "pip install textdistance"
   ]
  },
  {
   "cell_type": "code",
   "execution_count": 26,
   "id": "ad8e8267",
   "metadata": {},
   "outputs": [
    {
     "name": "stdout",
     "output_type": "stream",
     "text": [
      "The first 10 words in our dictionary are: \n",
      "['bharath', 'internship', 'may', '2023', 'thankyou']\n",
      "The dictionary has 5 words \n"
     ]
    }
   ],
   "source": [
    "import re  # regular expression\n",
    "from collections import Counter\n",
    "import numpy as np\n",
    "import pandas as pd\n",
    "w = [] #words\n",
    "with open('Bintern.txt','r',encoding=\"utf8\") as f:\n",
    "    file_name_data = f.read()\n",
    "    file_name_data = file_name_data.lower()\n",
    "    w = re.findall('\\w+', file_name_data)\n",
    "\n",
    "v = set(w) #vocabulary\n",
    "print(f\"The first 10 words in our dictionary are: \\n{w[0:10]}\")\n",
    "print(f\"The dictionary has {len(v)} words \")"
   ]
  },
  {
   "cell_type": "code",
   "execution_count": 27,
   "id": "ba149040",
   "metadata": {},
   "outputs": [
    {
     "data": {
      "text/plain": [
       "['a',\n",
       " 'ability',\n",
       " 'able',\n",
       " 'about',\n",
       " 'above',\n",
       " 'accept',\n",
       " 'according',\n",
       " 'account',\n",
       " 'across',\n",
       " 'act']"
      ]
     },
     "execution_count": 27,
     "metadata": {},
     "output_type": "execute_result"
    }
   ],
   "source": [
    "#The first 10 words in our dictionary are: \n",
    "['a', 'ability', 'able', 'about', 'above', 'accept', 'according', 'account', 'across', 'act']\n",
    "#The dictionary has 1001 words "
   ]
  },
  {
   "cell_type": "code",
   "execution_count": 28,
   "id": "7834c162",
   "metadata": {},
   "outputs": [
    {
     "name": "stdout",
     "output_type": "stream",
     "text": [
      "There are 5 key values pairs\n"
     ]
    }
   ],
   "source": [
    "def get_count(w):\n",
    "    word_count_dict = {}\n",
    "    for word in w:\n",
    "        if word in word_count_dict:\n",
    "            word_count_dict[word] += 1\n",
    "        else:\n",
    "            word_count_dict[word] = 1\n",
    "    return word_count_dict\n",
    "word_count_dict = get_count(w)\n",
    "print(f\"There are {len(word_count_dict)} key values pairs\")"
   ]
  },
  {
   "cell_type": "code",
   "execution_count": 31,
   "id": "d929541b",
   "metadata": {},
   "outputs": [],
   "source": [
    "def get_probs(word_count_dict):\n",
    "    probs = {}\n",
    "    m = sum(word_count_dict.values())\n",
    "    for key in word_count_dict.keys():\n",
    "        probs[key] = word_count_dict[key] / m\n",
    "    return probs"
   ]
  },
  {
   "cell_type": "code",
   "execution_count": 34,
   "id": "d7df38ac",
   "metadata": {},
   "outputs": [],
   "source": [
    "def DeleteLetter(word):\n",
    "    delete_list = []\n",
    "    split_list = []\n",
    "    for i in range(len(word)):\n",
    "        split_list.append((word[0:i], word[i:]))\n",
    "    for a, b in split_list:\n",
    "        delete_list.append(a + b[1:])\n",
    "    return delete_list\n",
    "\n",
    "delete_word_l = DeleteLetter(word=\"cans\")"
   ]
  },
  {
   "cell_type": "code",
   "execution_count": 35,
   "id": "8cdcc14d",
   "metadata": {},
   "outputs": [],
   "source": [
    "def SwitchLetter(word):\n",
    "    split_l = []\n",
    "    switch_l = []\n",
    "    for i in range(len(word)):\n",
    "        split_l.append((word[0:i], word[i:]))\n",
    "    switch_l = [a + b[1] + b[0] + b[2:] for a, b in split_l if len(b) >= 2]\n",
    "    return switch_l\n",
    "\n",
    "switch_word_l = SwitchLetter(word=\"eta\")"
   ]
  },
  {
   "cell_type": "code",
   "execution_count": 36,
   "id": "35197eb7",
   "metadata": {},
   "outputs": [],
   "source": [
    "def replace_letter(word):\n",
    "    split_l = []\n",
    "    replace_list = []\n",
    "    for i in range(len(word)):\n",
    "        split_l.append((word[0:i], word[i:]))\n",
    "    alphabets = 'abcdefghijklmnopqrstuvwxyz'\n",
    "    replace_list = [a + l + (b[1:] if len(b) > 1 else '') for a, b in split_l if b for l in alphabets]\n",
    "    return replace_list\n",
    "\n",
    "replace_l = replace_letter(word='can')"
   ]
  },
  {
   "cell_type": "code",
   "execution_count": 37,
   "id": "557ad17e",
   "metadata": {},
   "outputs": [],
   "source": [
    "def insert_letter(word):\n",
    "    split_l = []\n",
    "    insert_list = []\n",
    "    for i in range(len(word) + 1):\n",
    "        split_l.append((word[0:i], word[i:]))\n",
    "    letters = 'abcdefghijklmnopqrstuvwxyz'\n",
    "    insert_list = [a + l + b for a, b in split_l for l in letters]\n",
    "    # print(split_l)\n",
    "    return insert_list"
   ]
  },
  {
   "cell_type": "code",
   "execution_count": 39,
   "id": "4b744fc0",
   "metadata": {},
   "outputs": [
    {
     "name": "stdout",
     "output_type": "stream",
     "text": [
      "Enter any word:bharat\n",
      "word 0: bharath, probability 0.200000\n"
     ]
    }
   ],
   "source": [
    "def edit_one_letter(word, allow_switches=True):\n",
    "    edit_set1 = set()\n",
    "    edit_set1.update(DeleteLetter(word))\n",
    "    if allow_switches:\n",
    "        edit_set1.update(SwitchLetter(word))\n",
    "    edit_set1.update(replace_letter(word))\n",
    "    edit_set1.update(insert_letter(word))\n",
    "    return edit_set1\n",
    "def edit_two_letters(word, allow_switches=True):\n",
    "    edit_set2 = set()\n",
    "    edit_one = edit_one_letter(word, allow_switches=allow_switches)\n",
    "    for w in edit_one:\n",
    "        if w:\n",
    "            edit_two = edit_one_letter(w, allow_switches=allow_switches)\n",
    "            edit_set2.update(edit_two)\n",
    "    return edit_set2\n",
    "def get_corrections(word, probs, vocab, n=2):\n",
    "    suggested_word = []\n",
    "    best_suggestion = []\n",
    "    suggested_word = list(\n",
    "        (word in vocab and word) or edit_one_letter(word).intersection(vocab) or edit_two_letters(word).intersection(\n",
    "            vocab))\n",
    "    best_suggestion = [[s, probs[s]] for s in list(reversed(suggested_word))]\n",
    "    return best_suggestion\n",
    "\n",
    "my_word = input(\"Enter any word:\")\n",
    "probs = get_probs(word_count_dict)\n",
    "tmp_corrections = get_corrections(my_word, probs, v, 2)\n",
    "for i, word_prob in enumerate(tmp_corrections):\n",
    "    print(f\"word {i}: {word_prob[0]}, probability {word_prob[1]:.6f}\")"
   ]
  },
  {
   "cell_type": "code",
   "execution_count": null,
   "id": "8ffecad6",
   "metadata": {},
   "outputs": [],
   "source": []
  }
 ],
 "metadata": {
  "kernelspec": {
   "display_name": "Python 3 (ipykernel)",
   "language": "python",
   "name": "python3"
  },
  "language_info": {
   "codemirror_mode": {
    "name": "ipython",
    "version": 3
   },
   "file_extension": ".py",
   "mimetype": "text/x-python",
   "name": "python",
   "nbconvert_exporter": "python",
   "pygments_lexer": "ipython3",
   "version": "3.9.7"
  }
 },
 "nbformat": 4,
 "nbformat_minor": 5
}
